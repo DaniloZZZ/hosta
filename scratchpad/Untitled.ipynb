{
 "cells": [
  {
   "cell_type": "markdown",
   "metadata": {
    "toc": true
   },
   "source": [
    "<h1>Table of Contents<span class=\"tocSkip\"></span></h1>\n",
    "<div class=\"toc\"><ul class=\"toc-item\"><li><span><a href=\"#Weakrefs\" data-toc-modified-id=\"Weakrefs-1\"><span class=\"toc-item-num\">1&nbsp;&nbsp;</span>Weakrefs</a></span></li><li><span><a href=\"#Globals-in-files\" data-toc-modified-id=\"Globals-in-files-2\"><span class=\"toc-item-num\">2&nbsp;&nbsp;</span>Globals in files</a></span></li><li><span><a href=\"#Free-vars\" data-toc-modified-id=\"Free-vars-3\"><span class=\"toc-item-num\">3&nbsp;&nbsp;</span>Free vars</a></span></li></ul></div>"
   ]
  },
  {
   "cell_type": "code",
   "execution_count": 1,
   "metadata": {
    "ExecuteTime": {
     "end_time": "2020-04-26T02:19:23.656670Z",
     "start_time": "2020-04-26T02:19:23.651574Z"
    }
   },
   "outputs": [],
   "source": [
    "import gc\n",
    "from pprint import pprint\n",
    "import datetime\n",
    "from IPython.lib.pretty import pprint\n"
   ]
  },
  {
   "cell_type": "code",
   "execution_count": 123,
   "metadata": {
    "ExecuteTime": {
     "end_time": "2020-04-26T01:54:13.868638Z",
     "start_time": "2020-04-26T01:54:13.839301Z"
    }
   },
   "outputs": [],
   "source": [
    "import inspect\n",
    "\n",
    "class B():\n",
    "    def __init__(self):\n",
    "        self.created = datetime.datetime.now()\n",
    "    def __repr__(self):\n",
    "        return f'<B object t={self.created} at {hex(id(self))} >'\n",
    "    def __del__(self):\n",
    "        print('Delete!')\n",
    "        super().__del__(self)"
   ]
  },
  {
   "cell_type": "code",
   "execution_count": 124,
   "metadata": {
    "ExecuteTime": {
     "end_time": "2020-04-26T01:54:13.883529Z",
     "start_time": "2020-04-26T01:54:13.871961Z"
    }
   },
   "outputs": [],
   "source": [
    "a = B()\n",
    "q = {}\n",
    "q['a'] = a"
   ]
  },
  {
   "cell_type": "code",
   "execution_count": 125,
   "metadata": {
    "ExecuteTime": {
     "end_time": "2020-04-26T01:54:13.909984Z",
     "start_time": "2020-04-26T01:54:13.887633Z"
    }
   },
   "outputs": [],
   "source": [
    "del a"
   ]
  },
  {
   "cell_type": "code",
   "execution_count": 2,
   "metadata": {
    "ExecuteTime": {
     "end_time": "2020-04-26T02:19:28.913657Z",
     "start_time": "2020-04-26T02:19:28.840792Z"
    },
    "scrolled": false
   },
   "outputs": [
    {
     "ename": "NameError",
     "evalue": "name 'q' is not defined",
     "output_type": "error",
     "traceback": [
      "\u001b[0;31m---------------------------------------------------------------------------\u001b[0m",
      "\u001b[0;31mNameError\u001b[0m                                 Traceback (most recent call last)",
      "\u001b[0;32m<ipython-input-2-7deb65347eef>\u001b[0m in \u001b[0;36m<module>\u001b[0;34m\u001b[0m\n\u001b[1;32m      8\u001b[0m     \u001b[0mrefcnt\u001b[0m\u001b[0;34m(\u001b[0m\u001b[0mx\u001b[0m\u001b[0;34m)\u001b[0m\u001b[0;34m\u001b[0m\u001b[0;34m\u001b[0m\u001b[0m\n\u001b[1;32m      9\u001b[0m \u001b[0;34m\u001b[0m\u001b[0m\n\u001b[0;32m---> 10\u001b[0;31m \u001b[0mref_analys\u001b[0m\u001b[0;34m(\u001b[0m\u001b[0mq\u001b[0m\u001b[0;34m[\u001b[0m\u001b[0;34m'a'\u001b[0m\u001b[0;34m]\u001b[0m\u001b[0;34m)\u001b[0m\u001b[0;34m\u001b[0m\u001b[0;34m\u001b[0m\u001b[0m\n\u001b[0m",
      "\u001b[0;31mNameError\u001b[0m: name 'q' is not defined"
     ]
    }
   ],
   "source": [
    "refcnt = lambda x: print(len(gc.get_referrers(x)))\n",
    "refs = lambda y: print([(type(x).__name__, hex(id(x))) for x in gc.get_referrers(y)])\n",
    "ref = lambda y: pprint([x for x in gc.get_referrers(y)], max_seq_length=10)\n",
    "\n",
    "def ref_analys(x):\n",
    "    refs(x)\n",
    "    ref(x)\n",
    "    refcnt(x)\n",
    "    \n",
    "ref_analys(q['a'])"
   ]
  },
  {
   "cell_type": "code",
   "execution_count": 127,
   "metadata": {
    "ExecuteTime": {
     "end_time": "2020-04-26T01:54:14.107913Z",
     "start_time": "2020-04-26T01:54:14.098895Z"
    }
   },
   "outputs": [
    {
     "data": {
      "text/plain": [
       "'0x7f35056e1480'"
      ]
     },
     "execution_count": 127,
     "metadata": {},
     "output_type": "execute_result"
    }
   ],
   "source": [
    "hex(id(q))"
   ]
  },
  {
   "cell_type": "code",
   "execution_count": null,
   "metadata": {},
   "outputs": [],
   "source": []
  },
  {
   "cell_type": "code",
   "execution_count": 128,
   "metadata": {
    "ExecuteTime": {
     "end_time": "2020-04-26T01:54:14.143222Z",
     "start_time": "2020-04-26T01:54:14.123856Z"
    }
   },
   "outputs": [
    {
     "data": {
      "text/plain": [
       "'/home/dali/side-projects-hobby/legimens/scratchpad'"
      ]
     },
     "execution_count": 128,
     "metadata": {},
     "output_type": "execute_result"
    }
   ],
   "source": [
    "%pwd"
   ]
  },
  {
   "cell_type": "code",
   "execution_count": 129,
   "metadata": {
    "ExecuteTime": {
     "end_time": "2020-04-26T01:54:14.149040Z",
     "start_time": "2020-04-26T01:54:14.144904Z"
    }
   },
   "outputs": [
    {
     "name": "stdout",
     "output_type": "stream",
     "text": [
      "Overwriting ./script_that_stores_objs.py\n"
     ]
    }
   ],
   "source": [
    "%%writefile ./script_that_stores_objs.py\n",
    "\n",
    "Q = {}\n",
    "def put_to_queue(o):\n",
    "    Q[hex(id(o))] = o\n",
    "    "
   ]
  },
  {
   "cell_type": "code",
   "execution_count": 130,
   "metadata": {
    "ExecuteTime": {
     "end_time": "2020-04-26T01:54:14.169981Z",
     "start_time": "2020-04-26T01:54:14.150854Z"
    }
   },
   "outputs": [],
   "source": [
    "from script_that_stores_objs import put_to_queue"
   ]
  },
  {
   "cell_type": "code",
   "execution_count": 131,
   "metadata": {
    "ExecuteTime": {
     "end_time": "2020-04-26T01:54:14.199160Z",
     "start_time": "2020-04-26T01:54:14.176534Z"
    }
   },
   "outputs": [],
   "source": [
    "put_to_queue(q['a'])"
   ]
  },
  {
   "cell_type": "code",
   "execution_count": 132,
   "metadata": {
    "ExecuteTime": {
     "end_time": "2020-04-26T01:54:14.414162Z",
     "start_time": "2020-04-26T01:54:14.214020Z"
    }
   },
   "outputs": [
    {
     "name": "stdout",
     "output_type": "stream",
     "text": [
      "[('dict', '0x7f35056e1480'), ('dict', '0x7f3505cba880')]\n",
      "[{'a': <B object t=2020-04-25 20:54:13.881287 at 0x7f350562ff40 >},\n",
      " {'0x7f3506612d90': <__main__.B at 0x7f3506612d90>,\n",
      "  '0x7f35069664c0': <__main__.B at 0x7f35069664c0>,\n",
      "  '0x7f35066e2550': <B object t=2020-04-25 16:56:08.793894 at 0x7f35066e2550 >,\n",
      "  '0x7f35066e21f0': <B object t=2020-04-25 16:56:54.778444 at 0x7f35066e21f0 >,\n",
      "  '0x7f350562ff40': <B object t=2020-04-25 20:54:13.881287 at 0x7f350562ff40 >}]\n",
      "2\n"
     ]
    }
   ],
   "source": [
    "ref_analys(q['a'])"
   ]
  },
  {
   "cell_type": "markdown",
   "metadata": {},
   "source": [
    "## Weakrefs \n",
    "\n",
    "https://docs.python.org/3/library/weakref.html\n",
    "\n",
    "**CPython implementation detail:** Other built-in types such as tuple and int do not support weak references even when subclassed.\n"
   ]
  },
  {
   "cell_type": "code",
   "execution_count": 104,
   "metadata": {
    "ExecuteTime": {
     "end_time": "2020-04-27T03:21:50.713765Z",
     "start_time": "2020-04-27T03:21:50.700967Z"
    }
   },
   "outputs": [],
   "source": [
    "import weakref"
   ]
  },
  {
   "cell_type": "code",
   "execution_count": 109,
   "metadata": {
    "ExecuteTime": {
     "end_time": "2020-04-27T03:22:24.328828Z",
     "start_time": "2020-04-27T03:22:24.314518Z"
    }
   },
   "outputs": [
    {
     "data": {
      "text/plain": [
       "1"
      ]
     },
     "execution_count": 109,
     "metadata": {},
     "output_type": "execute_result"
    }
   ],
   "source": [
    "k = weakref.WeakValueDictionary()\n",
    "k['a'] = k\n",
    "len(list(k.keys()))"
   ]
  },
  {
   "cell_type": "code",
   "execution_count": null,
   "metadata": {
    "ExecuteTime": {
     "end_time": "2020-04-26T01:54:14.512358Z",
     "start_time": "2020-04-26T01:54:13.927Z"
    }
   },
   "outputs": [],
   "source": [
    "k['a'] = {'x':1}\n"
   ]
  },
  {
   "cell_type": "code",
   "execution_count": 151,
   "metadata": {
    "ExecuteTime": {
     "end_time": "2020-04-26T01:56:54.799359Z",
     "start_time": "2020-04-26T01:56:54.790303Z"
    }
   },
   "outputs": [],
   "source": [
    "x = 5\n",
    "m  = lambda: x\n",
    "def r():\n",
    "    return x\n",
    "k['a'] = m"
   ]
  },
  {
   "cell_type": "code",
   "execution_count": null,
   "metadata": {
    "ExecuteTime": {
     "end_time": "2020-04-26T01:56:47.576691Z",
     "start_time": "2020-04-26T01:56:47.562701Z"
    }
   },
   "outputs": [],
   "source": []
  },
  {
   "cell_type": "code",
   "execution_count": 152,
   "metadata": {
    "ExecuteTime": {
     "end_time": "2020-04-26T01:56:55.676177Z",
     "start_time": "2020-04-26T01:56:55.651504Z"
    }
   },
   "outputs": [],
   "source": [
    "x = 3"
   ]
  },
  {
   "cell_type": "code",
   "execution_count": 153,
   "metadata": {
    "ExecuteTime": {
     "end_time": "2020-04-26T01:56:56.172167Z",
     "start_time": "2020-04-26T01:56:56.154149Z"
    }
   },
   "outputs": [
    {
     "data": {
      "text/plain": [
       "3"
      ]
     },
     "execution_count": 153,
     "metadata": {},
     "output_type": "execute_result"
    }
   ],
   "source": [
    "m()"
   ]
  },
  {
   "cell_type": "code",
   "execution_count": 146,
   "metadata": {
    "ExecuteTime": {
     "end_time": "2020-04-26T01:56:02.336178Z",
     "start_time": "2020-04-26T01:56:02.332169Z"
    }
   },
   "outputs": [
    {
     "data": {
      "text/plain": [
       "3"
      ]
     },
     "execution_count": 146,
     "metadata": {},
     "output_type": "execute_result"
    }
   ],
   "source": [
    "r()"
   ]
  },
  {
   "cell_type": "markdown",
   "metadata": {},
   "source": [
    "## Globals in files"
   ]
  },
  {
   "cell_type": "code",
   "execution_count": 154,
   "metadata": {
    "ExecuteTime": {
     "end_time": "2020-04-26T02:06:30.746403Z",
     "start_time": "2020-04-26T02:06:30.743002Z"
    }
   },
   "outputs": [],
   "source": [
    "a = 5"
   ]
  },
  {
   "cell_type": "code",
   "execution_count": 156,
   "metadata": {
    "ExecuteTime": {
     "end_time": "2020-04-26T02:06:53.100166Z",
     "start_time": "2020-04-26T02:06:53.080758Z"
    }
   },
   "outputs": [
    {
     "name": "stdout",
     "output_type": "stream",
     "text": [
      "Writing print_a.py\n"
     ]
    }
   ],
   "source": [
    "%%writefile print_a.py\n",
    "\n",
    "print(a)"
   ]
  },
  {
   "cell_type": "code",
   "execution_count": 159,
   "metadata": {
    "ExecuteTime": {
     "end_time": "2020-04-26T02:07:39.204402Z",
     "start_time": "2020-04-26T02:07:39.180879Z"
    }
   },
   "outputs": [
    {
     "name": "stdout",
     "output_type": "stream",
     "text": [
      "Writing use_print_a.py\n"
     ]
    }
   ],
   "source": [
    "%%writefile use_print_a.py\n",
    "\n",
    "a = 5\n",
    "import print_a\n"
   ]
  },
  {
   "cell_type": "code",
   "execution_count": 160,
   "metadata": {
    "ExecuteTime": {
     "end_time": "2020-04-26T02:07:39.311493Z",
     "start_time": "2020-04-26T02:07:39.291993Z"
    }
   },
   "outputs": [
    {
     "ename": "NameError",
     "evalue": "name 'a' is not defined",
     "output_type": "error",
     "traceback": [
      "\u001b[0;31m---------------------------------------------------------------------------\u001b[0m",
      "\u001b[0;31mNameError\u001b[0m                                 Traceback (most recent call last)",
      "\u001b[0;32m<ipython-input-160-7378ae24e4c3>\u001b[0m in \u001b[0;36m<module>\u001b[0;34m\u001b[0m\n\u001b[0;32m----> 1\u001b[0;31m \u001b[0;32mimport\u001b[0m \u001b[0muse_print_a\u001b[0m\u001b[0;34m\u001b[0m\u001b[0;34m\u001b[0m\u001b[0m\n\u001b[0m",
      "\u001b[0;32m~/side-projects-hobby/legimens/scratchpad/use_print_a.py\u001b[0m in \u001b[0;36m<module>\u001b[0;34m\u001b[0m\n\u001b[1;32m      1\u001b[0m \u001b[0;34m\u001b[0m\u001b[0m\n\u001b[1;32m      2\u001b[0m \u001b[0ma\u001b[0m \u001b[0;34m=\u001b[0m \u001b[0;36m5\u001b[0m\u001b[0;34m\u001b[0m\u001b[0;34m\u001b[0m\u001b[0m\n\u001b[0;32m----> 3\u001b[0;31m \u001b[0;32mimport\u001b[0m \u001b[0mprint_a\u001b[0m\u001b[0;34m\u001b[0m\u001b[0;34m\u001b[0m\u001b[0m\n\u001b[0m",
      "\u001b[0;32m~/side-projects-hobby/legimens/scratchpad/print_a.py\u001b[0m in \u001b[0;36m<module>\u001b[0;34m\u001b[0m\n\u001b[1;32m      1\u001b[0m \u001b[0;34m\u001b[0m\u001b[0m\n\u001b[0;32m----> 2\u001b[0;31m \u001b[0mprint\u001b[0m\u001b[0;34m(\u001b[0m\u001b[0ma\u001b[0m\u001b[0;34m)\u001b[0m\u001b[0;34m\u001b[0m\u001b[0;34m\u001b[0m\u001b[0m\n\u001b[0m",
      "\u001b[0;31mNameError\u001b[0m: name 'a' is not defined"
     ]
    }
   ],
   "source": [
    "import use_print_a"
   ]
  },
  {
   "cell_type": "markdown",
   "metadata": {},
   "source": [
    "## Free vars"
   ]
  },
  {
   "cell_type": "code",
   "execution_count": 3,
   "metadata": {
    "ExecuteTime": {
     "end_time": "2020-04-26T02:19:35.093723Z",
     "start_time": "2020-04-26T02:19:35.081892Z"
    }
   },
   "outputs": [],
   "source": [
    "def make_contains_function(x):\n",
    "    def contains(s):\n",
    "        return x in s\n",
    "    return contains"
   ]
  },
  {
   "cell_type": "code",
   "execution_count": 4,
   "metadata": {
    "ExecuteTime": {
     "end_time": "2020-04-26T02:19:35.592504Z",
     "start_time": "2020-04-26T02:19:35.589234Z"
    }
   },
   "outputs": [],
   "source": [
    "bob = 'bob'\n",
    "b = 'bo'"
   ]
  },
  {
   "cell_type": "code",
   "execution_count": 5,
   "metadata": {
    "ExecuteTime": {
     "end_time": "2020-04-26T02:19:36.250961Z",
     "start_time": "2020-04-26T02:19:36.167880Z"
    },
    "scrolled": true
   },
   "outputs": [
    {
     "name": "stdout",
     "output_type": "stream",
     "text": [
      "[('dict', '0x7f184163ca00')]\n",
      "[{'__name__': '__main__',\n",
      "  '__doc__': 'Automatically created module for IPython interactive environment',\n",
      "  '__package__': None,\n",
      "  '__loader__': None,\n",
      "  '__spec__': None,\n",
      "  '__builtin__': <module 'builtins' (built-in)>,\n",
      "  '__builtins__': <module 'builtins' (built-in)>,\n",
      "  '_ih': ['',\n",
      "   'import gc\\nfrom pprint import pprint\\nimport datetime\\nfrom IPython.lib.pretty import pprint',\n",
      "   \"refcnt = lambda x: print(len(gc.get_referrers(x)))\\nrefs = lambda y: print([(type(x).__name__, hex(id(x))) for x in gc.get_referrers(y)])\\nref = lambda y: pprint([x for x in gc.get_referrers(y)], max_seq_length=10)\\n\\ndef ref_analys(x):\\n    refs(x)\\n    ref(x)\\n    refcnt(x)\\n    \\nref_analys(q['a'])\",\n",
      "   'def make_contains_function(x):\\n    def contains(s):\\n        return x in s\\n    return contains',\n",
      "   \"bob = 'bob'\\nb = 'bo'\",\n",
      "   'ref_analys(b)'],\n",
      "  '_oh': {},\n",
      "  '_dh': ['/home/dali/side-projects-hobby/legimens/scratchpad'],\n",
      "  ...}]\n",
      "1\n"
     ]
    }
   ],
   "source": [
    "ref_analys(b)"
   ]
  },
  {
   "cell_type": "code",
   "execution_count": 6,
   "metadata": {
    "ExecuteTime": {
     "end_time": "2020-04-26T02:19:37.431648Z",
     "start_time": "2020-04-26T02:19:37.389839Z"
    },
    "scrolled": false
   },
   "outputs": [
    {
     "name": "stdout",
     "output_type": "stream",
     "text": [
      "[('cell', '0x7f18405738e0'), ('dict', '0x7f184163ca00')]\n",
      "[<cell at 0x7f18405738e0: str object at 0x7f1840599930>,\n",
      " {'__name__': '__main__',\n",
      "  '__doc__': 'Automatically created module for IPython interactive environment',\n",
      "  '__package__': None,\n",
      "  '__loader__': None,\n",
      "  '__spec__': None,\n",
      "  '__builtin__': <module 'builtins' (built-in)>,\n",
      "  '__builtins__': <module 'builtins' (built-in)>,\n",
      "  '_ih': ['',\n",
      "   'import gc\\nfrom pprint import pprint\\nimport datetime\\nfrom IPython.lib.pretty import pprint',\n",
      "   \"refcnt = lambda x: print(len(gc.get_referrers(x)))\\nrefs = lambda y: print([(type(x).__name__, hex(id(x))) for x in gc.get_referrers(y)])\\nref = lambda y: pprint([x for x in gc.get_referrers(y)], max_seq_length=10)\\n\\ndef ref_analys(x):\\n    refs(x)\\n    ref(x)\\n    refcnt(x)\\n    \\nref_analys(q['a'])\",\n",
      "   'def make_contains_function(x):\\n    def contains(s):\\n        return x in s\\n    return contains',\n",
      "   \"bob = 'bob'\\nb = 'bo'\",\n",
      "   'ref_analys(b)',\n",
      "   'cont_b = make_contains_function(b)\\nref_analys(b)'],\n",
      "  '_oh': {},\n",
      "  '_dh': ['/home/dali/side-projects-hobby/legimens/scratchpad'],\n",
      "  ...}]\n",
      "2\n"
     ]
    }
   ],
   "source": [
    "cont_b = make_contains_function(b)\n",
    "ref_analys(b)"
   ]
  },
  {
   "cell_type": "code",
   "execution_count": 164,
   "metadata": {
    "ExecuteTime": {
     "end_time": "2020-04-26T02:12:26.755253Z",
     "start_time": "2020-04-26T02:12:26.741705Z"
    }
   },
   "outputs": [],
   "source": [
    "del b"
   ]
  },
  {
   "cell_type": "code",
   "execution_count": 165,
   "metadata": {
    "ExecuteTime": {
     "end_time": "2020-04-26T02:12:34.995595Z",
     "start_time": "2020-04-26T02:12:34.968637Z"
    }
   },
   "outputs": [
    {
     "data": {
      "text/plain": [
       "True"
      ]
     },
     "execution_count": 165,
     "metadata": {},
     "output_type": "execute_result"
    }
   ],
   "source": [
    "cont_b(bob)"
   ]
  },
  {
   "cell_type": "code",
   "execution_count": 171,
   "metadata": {
    "ExecuteTime": {
     "end_time": "2020-04-26T02:14:48.816853Z",
     "start_time": "2020-04-26T02:14:48.799463Z"
    }
   },
   "outputs": [
    {
     "data": {
      "text/plain": [
       "'b'"
      ]
     },
     "execution_count": 171,
     "metadata": {},
     "output_type": "execute_result"
    }
   ],
   "source": [
    "b"
   ]
  },
  {
   "cell_type": "code",
   "execution_count": 14,
   "metadata": {
    "ExecuteTime": {
     "end_time": "2020-04-26T02:20:53.344416Z",
     "start_time": "2020-04-26T02:20:53.327699Z"
    }
   },
   "outputs": [],
   "source": [
    "c = gc.get_referrers(b)[5]"
   ]
  },
  {
   "cell_type": "code",
   "execution_count": 16,
   "metadata": {
    "ExecuteTime": {
     "end_time": "2020-04-26T02:21:00.678003Z",
     "start_time": "2020-04-26T02:21:00.670868Z"
    }
   },
   "outputs": [
    {
     "data": {
      "text/plain": [
       "'bo'"
      ]
     },
     "execution_count": 16,
     "metadata": {},
     "output_type": "execute_result"
    }
   ],
   "source": [
    "c.cell_contents\n"
   ]
  },
  {
   "cell_type": "markdown",
   "metadata": {},
   "source": [
    "Update and return a dictionary representing the current local symbol table. Free variables are returned by locals() when it is called in function blocks but not in class blocks.\n",
    "\n",
    "When a name is used in a code block, it is resolved using the nearest enclosing scope. The set of all such scopes visible to a code block is called the block's environment.\n",
    "\n",
    "If a name is bound in a block, it is a local variable of that block. If a name is bound at the module level, it is a global variable. (The variables of the module code block are local and global.) If a variable is used in a code block but not defined there, it is a free variable."
   ]
  },
  {
   "cell_type": "code",
   "execution_count": 51,
   "metadata": {
    "ExecuteTime": {
     "end_time": "2020-04-26T02:31:11.404982Z",
     "start_time": "2020-04-26T02:31:11.399726Z"
    }
   },
   "outputs": [],
   "source": [
    "def make_contains_function(x):\n",
    "    print('locals factory', locals())\n",
    "    class contains():\n",
    "        print('locals class', locals())\n",
    "        def __init__(self, s):\n",
    "            print('locals init', locals())\n",
    "            print(x in s)\n",
    "    return contains"
   ]
  },
  {
   "cell_type": "code",
   "execution_count": 52,
   "metadata": {
    "ExecuteTime": {
     "end_time": "2020-04-26T02:31:11.546180Z",
     "start_time": "2020-04-26T02:31:11.540538Z"
    }
   },
   "outputs": [
    {
     "name": "stdout",
     "output_type": "stream",
     "text": [
      "locals factory {'x': 'bo'}\n",
      "locals class {'__module__': '__main__', '__qualname__': 'make_contains_function.<locals>.contains'}\n"
     ]
    }
   ],
   "source": [
    "cont_b = make_contains_function(b)"
   ]
  },
  {
   "cell_type": "code",
   "execution_count": 53,
   "metadata": {
    "ExecuteTime": {
     "end_time": "2020-04-26T02:31:12.147971Z",
     "start_time": "2020-04-26T02:31:12.141229Z"
    }
   },
   "outputs": [
    {
     "name": "stdout",
     "output_type": "stream",
     "text": [
      "locals init {'self': <__main__.make_contains_function.<locals>.contains object at 0x7f1823ee38e0>, 's': 'bob', 'x': 'bo'}\n",
      "True\n"
     ]
    },
    {
     "data": {
      "text/plain": [
       "<__main__.make_contains_function.<locals>.contains at 0x7f1823ee38e0>"
      ]
     },
     "execution_count": 53,
     "metadata": {},
     "output_type": "execute_result"
    }
   ],
   "source": [
    "cont_b('bob')"
   ]
  },
  {
   "cell_type": "markdown",
   "metadata": {},
   "source": [
    "If the current scope is a function scope, and the name refers to a local variable that has not yet been bound to a value at the point where the name is used, an UnboundLocalError exception is raised. UnboundLocalError is a subclass of NameError."
   ]
  },
  {
   "cell_type": "code",
   "execution_count": 60,
   "metadata": {
    "ExecuteTime": {
     "end_time": "2020-04-26T02:39:29.937438Z",
     "start_time": "2020-04-26T02:39:29.923430Z"
    }
   },
   "outputs": [],
   "source": [
    "def get_foo():\n",
    "    x = 5\n",
    "    def foo():\n",
    "        print(x)\n",
    "        x = 6\n",
    "    return foo"
   ]
  },
  {
   "cell_type": "code",
   "execution_count": 61,
   "metadata": {
    "ExecuteTime": {
     "end_time": "2020-04-26T02:39:30.092359Z",
     "start_time": "2020-04-26T02:39:30.053136Z"
    }
   },
   "outputs": [
    {
     "ename": "UnboundLocalError",
     "evalue": "local variable 'x' referenced before assignment",
     "output_type": "error",
     "traceback": [
      "\u001b[0;31m---------------------------------------------------------------------------\u001b[0m",
      "\u001b[0;31mUnboundLocalError\u001b[0m                         Traceback (most recent call last)",
      "\u001b[0;32m<ipython-input-61-82ea8e4b3547>\u001b[0m in \u001b[0;36m<module>\u001b[0;34m\u001b[0m\n\u001b[0;32m----> 1\u001b[0;31m \u001b[0mget_foo\u001b[0m\u001b[0;34m(\u001b[0m\u001b[0;34m)\u001b[0m\u001b[0;34m(\u001b[0m\u001b[0;34m)\u001b[0m\u001b[0;34m\u001b[0m\u001b[0;34m\u001b[0m\u001b[0m\n\u001b[0m",
      "\u001b[0;32m<ipython-input-60-397ef22a2243>\u001b[0m in \u001b[0;36mfoo\u001b[0;34m()\u001b[0m\n\u001b[1;32m      2\u001b[0m     \u001b[0mx\u001b[0m \u001b[0;34m=\u001b[0m \u001b[0;36m5\u001b[0m\u001b[0;34m\u001b[0m\u001b[0;34m\u001b[0m\u001b[0m\n\u001b[1;32m      3\u001b[0m     \u001b[0;32mdef\u001b[0m \u001b[0mfoo\u001b[0m\u001b[0;34m(\u001b[0m\u001b[0;34m)\u001b[0m\u001b[0;34m:\u001b[0m\u001b[0;34m\u001b[0m\u001b[0;34m\u001b[0m\u001b[0m\n\u001b[0;32m----> 4\u001b[0;31m         \u001b[0mprint\u001b[0m\u001b[0;34m(\u001b[0m\u001b[0mx\u001b[0m\u001b[0;34m)\u001b[0m\u001b[0;34m\u001b[0m\u001b[0;34m\u001b[0m\u001b[0m\n\u001b[0m\u001b[1;32m      5\u001b[0m         \u001b[0mx\u001b[0m \u001b[0;34m=\u001b[0m \u001b[0;36m6\u001b[0m\u001b[0;34m\u001b[0m\u001b[0;34m\u001b[0m\u001b[0m\n\u001b[1;32m      6\u001b[0m     \u001b[0;32mreturn\u001b[0m \u001b[0mfoo\u001b[0m\u001b[0;34m\u001b[0m\u001b[0;34m\u001b[0m\u001b[0m\n",
      "\u001b[0;31mUnboundLocalError\u001b[0m: local variable 'x' referenced before assignment"
     ]
    }
   ],
   "source": [
    "get_foo()()"
   ]
  },
  {
   "cell_type": "code",
   "execution_count": 62,
   "metadata": {
    "ExecuteTime": {
     "end_time": "2020-04-26T02:39:30.199202Z",
     "start_time": "2020-04-26T02:39:30.195740Z"
    }
   },
   "outputs": [],
   "source": [
    "def get_foo():\n",
    "    x = 5\n",
    "    def foo():\n",
    "        print(x)\n",
    "        #x = 6\n",
    "    return foo"
   ]
  },
  {
   "cell_type": "code",
   "execution_count": 63,
   "metadata": {
    "ExecuteTime": {
     "end_time": "2020-04-26T02:39:31.018023Z",
     "start_time": "2020-04-26T02:39:31.013764Z"
    }
   },
   "outputs": [
    {
     "name": "stdout",
     "output_type": "stream",
     "text": [
      "5\n"
     ]
    }
   ],
   "source": [
    "get_foo()()"
   ]
  },
  {
   "cell_type": "markdown",
   "metadata": {},
   "source": [
    "If a name binding operation occurs anywhere within a code block, all uses of the name within the block are treated as references to the current block. This can lead to errors when a name is used within a block before it is bound. This rule is subtle. Python lacks declarations and allows name binding operations to occur anywhere within a code block. The local variables of a code block can be determined by scanning the entire text of the block for name binding operations."
   ]
  },
  {
   "cell_type": "code",
   "execution_count": 94,
   "metadata": {
    "ExecuteTime": {
     "end_time": "2020-04-26T02:58:25.602133Z",
     "start_time": "2020-04-26T02:58:25.597026Z"
    }
   },
   "outputs": [],
   "source": [
    "x = 7\n",
    "def get_foo():\n",
    "    x = 5\n",
    "    def foo():\n",
    "        print(x)\n",
    "        r = x + 1\n",
    "        x = x\n",
    "    return foo"
   ]
  },
  {
   "cell_type": "code",
   "execution_count": 95,
   "metadata": {
    "ExecuteTime": {
     "end_time": "2020-04-26T02:58:26.190587Z",
     "start_time": "2020-04-26T02:58:26.156693Z"
    }
   },
   "outputs": [
    {
     "ename": "UnboundLocalError",
     "evalue": "local variable 'x' referenced before assignment",
     "output_type": "error",
     "traceback": [
      "\u001b[0;31m---------------------------------------------------------------------------\u001b[0m",
      "\u001b[0;31mUnboundLocalError\u001b[0m                         Traceback (most recent call last)",
      "\u001b[0;32m<ipython-input-95-10e86e01f108>\u001b[0m in \u001b[0;36m<module>\u001b[0;34m\u001b[0m\n\u001b[0;32m----> 1\u001b[0;31m \u001b[0mget_foo\u001b[0m\u001b[0;34m(\u001b[0m\u001b[0;34m)\u001b[0m\u001b[0;34m(\u001b[0m\u001b[0;34m)\u001b[0m\u001b[0;34m.\u001b[0m\u001b[0mr\u001b[0m\u001b[0;34m\u001b[0m\u001b[0;34m\u001b[0m\u001b[0m\n\u001b[0m",
      "\u001b[0;32m<ipython-input-94-b643dca5f791>\u001b[0m in \u001b[0;36mfoo\u001b[0;34m()\u001b[0m\n\u001b[1;32m      3\u001b[0m     \u001b[0mx\u001b[0m \u001b[0;34m=\u001b[0m \u001b[0;36m5\u001b[0m\u001b[0;34m\u001b[0m\u001b[0;34m\u001b[0m\u001b[0m\n\u001b[1;32m      4\u001b[0m     \u001b[0;32mdef\u001b[0m \u001b[0mfoo\u001b[0m\u001b[0;34m(\u001b[0m\u001b[0;34m)\u001b[0m\u001b[0;34m:\u001b[0m\u001b[0;34m\u001b[0m\u001b[0;34m\u001b[0m\u001b[0m\n\u001b[0;32m----> 5\u001b[0;31m         \u001b[0mprint\u001b[0m\u001b[0;34m(\u001b[0m\u001b[0mx\u001b[0m\u001b[0;34m)\u001b[0m\u001b[0;34m\u001b[0m\u001b[0;34m\u001b[0m\u001b[0m\n\u001b[0m\u001b[1;32m      6\u001b[0m         \u001b[0mr\u001b[0m \u001b[0;34m=\u001b[0m \u001b[0mx\u001b[0m \u001b[0;34m+\u001b[0m \u001b[0;36m1\u001b[0m\u001b[0;34m\u001b[0m\u001b[0;34m\u001b[0m\u001b[0m\n\u001b[1;32m      7\u001b[0m         \u001b[0mx\u001b[0m \u001b[0;34m=\u001b[0m \u001b[0mx\u001b[0m\u001b[0;34m\u001b[0m\u001b[0;34m\u001b[0m\u001b[0m\n",
      "\u001b[0;31mUnboundLocalError\u001b[0m: local variable 'x' referenced before assignment"
     ]
    }
   ],
   "source": [
    "get_foo()().r"
   ]
  },
  {
   "cell_type": "code",
   "execution_count": 98,
   "metadata": {
    "ExecuteTime": {
     "end_time": "2020-04-26T03:00:45.248952Z",
     "start_time": "2020-04-26T03:00:45.245831Z"
    }
   },
   "outputs": [],
   "source": [
    "def f():\n",
    "    print(g)"
   ]
  },
  {
   "cell_type": "code",
   "execution_count": 99,
   "metadata": {
    "ExecuteTime": {
     "end_time": "2020-04-26T03:25:41.496249Z",
     "start_time": "2020-04-26T03:25:41.493837Z"
    }
   },
   "outputs": [],
   "source": [
    "import base64"
   ]
  },
  {
   "cell_type": "code",
   "execution_count": null,
   "metadata": {},
   "outputs": [],
   "source": []
  },
  {
   "cell_type": "code",
   "execution_count": null,
   "metadata": {},
   "outputs": [],
   "source": []
  },
  {
   "cell_type": "code",
   "execution_count": 103,
   "metadata": {
    "ExecuteTime": {
     "end_time": "2020-04-26T03:26:12.493180Z",
     "start_time": "2020-04-26T03:26:12.487918Z"
    }
   },
   "outputs": [
    {
     "data": {
      "text/plain": [
       "b'ptmcg@austin.rr.com'"
      ]
     },
     "execution_count": 103,
     "metadata": {},
     "output_type": "execute_result"
    }
   ],
   "source": [
    "base64.decodebytes(b'cHRtY2dAYXVzdGluLnJyLmNvbQ==')\n"
   ]
  },
  {
   "cell_type": "code",
   "execution_count": null,
   "metadata": {},
   "outputs": [],
   "source": []
  }
 ],
 "metadata": {
  "kernelspec": {
   "display_name": "Python 3",
   "language": "python",
   "name": "python3"
  },
  "language_info": {
   "codemirror_mode": {
    "name": "ipython",
    "version": 3
   },
   "file_extension": ".py",
   "mimetype": "text/x-python",
   "name": "python",
   "nbconvert_exporter": "python",
   "pygments_lexer": "ipython3",
   "version": "3.8.2"
  },
  "toc": {
   "base_numbering": 1,
   "nav_menu": {},
   "number_sections": true,
   "sideBar": true,
   "skip_h1_title": false,
   "title_cell": "Table of Contents",
   "title_sidebar": "Contents",
   "toc_cell": true,
   "toc_position": {},
   "toc_section_display": true,
   "toc_window_display": true
  }
 },
 "nbformat": 4,
 "nbformat_minor": 2
}
